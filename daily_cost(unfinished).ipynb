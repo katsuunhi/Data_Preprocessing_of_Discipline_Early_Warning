{
 "cells": [
  {
   "cell_type": "code",
   "execution_count": null,
   "metadata": {},
   "outputs": [],
   "source": [
    "import numpy as np\n",
    "import pandas as pd"
   ]
  },
  {
   "cell_type": "code",
   "execution_count": null,
   "metadata": {},
   "outputs": [],
   "source": [
    "ykt=pd.read_table('ykt_jyrz_lishi.txt')\n",
    "\n",
    "ykt=ykt['XH;JYLX;JYJE;JYRQ;JYSJ;JYDD;SHDM;SHMC;ZDJH;LJYKCS;JYYE'].str.split(';',expand=True)\n",
    "ykt.rename(columns={0:'学号',1:'交易类型',2: '交易金额',3:'交易日期',4:'交易时间', 5:'交易地点',6:'商户代码', 7:'商户名称',8:'pos编号',9:'累计刷卡次数', 10:'交易余额',11: '日期'},inplace=True)\n"
   ]
  },
  {
   "cell_type": "code",
   "execution_count": null,
   "metadata": {},
   "outputs": [],
   "source": [
    "place=ykt['交易地点'].drop_duplicates(keep='first', inplace=False).tolist()\n",
    "print(place)"
   ]
  },
  {
   "cell_type": "code",
   "execution_count": null,
   "metadata": {},
   "outputs": [],
   "source": [
    "for i in ['校医院','电子缴电费','卢工洗衣机', '郭顺发洗衣机', '梁工洗衣机','开发区智能控电','教务注册大厅收费','汇文系统', '校友工作处','建艺学院']:\n",
    "    place.remove(i)"
   ]
  },
  {
   "cell_type": "code",
   "execution_count": null,
   "metadata": {},
   "outputs": [],
   "source": [
    "cost_dict={}\n",
    "error_list=[]\n",
    "n=0\n",
    "for i,j in ykt.iterrows():\n",
    "    try:\n",
    "        if int(j['学号']) not in cost_dict:\n",
    "            cost_dict[int(j['学号'])]=0\n",
    "        if j['交易地点'] in place:\n",
    "                cost_dict[int(j['学号'])]+=int(j['交易金额'])\n",
    "#                如何判断在食堂里吃饭？？？                \n",
    "#                if '食堂' in j['交易地点']:\n",
    "#                    cost_dict[j['学号']][1]+=1\n",
    "    except ValueError:\n",
    "        error_list.append(i)\n",
    "for key in cost_dict:\n",
    "    cost_dict[key]/=100"
   ]
  },
  {
   "cell_type": "code",
   "execution_count": null,
   "metadata": {},
   "outputs": [],
   "source": [
    "print(cost_dict)"
   ]
  },
  {
   "cell_type": "code",
   "execution_count": null,
   "metadata": {},
   "outputs": [],
   "source": [
    "import json\n",
    "with open(\"daily_cost.txt\",\"w\") as f:\n",
    "    f.write(json.dumps(cost_dict))\n"
   ]
  }
 ],
 "metadata": {
  "kernelspec": {
   "display_name": "Python 3",
   "language": "python",
   "name": "python3"
  },
  "language_info": {
   "codemirror_mode": {
    "name": "ipython",
    "version": 3
   },
   "file_extension": ".py",
   "mimetype": "text/x-python",
   "name": "python",
   "nbconvert_exporter": "python",
   "pygments_lexer": "ipython3",
   "version": "3.7.3"
  }
 },
 "nbformat": 4,
 "nbformat_minor": 2
}
