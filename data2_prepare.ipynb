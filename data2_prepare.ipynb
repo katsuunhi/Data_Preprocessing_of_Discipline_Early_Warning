{
 "cells": [
  {
   "cell_type": "code",
   "execution_count": null,
   "metadata": {},
   "outputs": [],
   "source": [
    "import pandas as pd\n",
    "import numpy as np\n",
    "import json\n",
    "pd.set_option('display.max_columns', None)"
   ]
  },
  {
   "cell_type": "code",
   "execution_count": null,
   "metadata": {},
   "outputs": [],
   "source": [
    "tsjb_data = pd.read_table('data2/tsjbxx.txt',sep = ';')  #\n",
    "tsjyygh_data = pd.read_table('data2/tsjyygh.txt',sep = ';')  #\n",
    "\n",
    "file_list = [tsjb_data, tsjyygh_data]"
   ]
  },
  {
   "cell_type": "code",
   "execution_count": null,
   "metadata": {},
   "outputs": [],
   "source": [
    "#读取两个字典\n",
    "with open('book_id_count_map.json') as json_file:\n",
    "    student_id_count_map = json.load(json_file)\n",
    "    \n",
    "with open('student_id_count_map.json') as json_file:\n",
    "    student_id_count_map = json.load(json_file)"
   ]
  },
  {
   "cell_type": "code",
   "execution_count": null,
   "metadata": {},
   "outputs": [],
   "source": [
    "#删除空属性\n",
    "def drop_nan(file_list):\n",
    "    for file_index in range(len(file_list)):\n",
    "        for column in file_list[file_index].columns:\n",
    "            if file_list[file_index][column].count() == 0:\n",
    "                print(file_index, '.', column, 'is nan')\n",
    "                file_list[file_index].drop(column, axis = 1, inplace=True)"
   ]
  },
  {
   "cell_type": "code",
   "execution_count": null,
   "metadata": {},
   "outputs": [],
   "source": [
    "#构建maps映射表和get_value函数\n",
    "data = pd.read_excel(\"data2/表结构- 竞赛-20190508.xlsx\", sheet_name = None)\n",
    "maps = {}\n",
    "maps_list = []\n",
    "for sheet in data:\n",
    "    maps_list.append(sheet)\n",
    "\n",
    "for i in range(7,9):\n",
    "    for key, value in zip(data[maps_list[i]].iloc[:,0], data[maps_list[i]].iloc[:,2]):\n",
    "        key = key.replace(' ','')\n",
    "        maps[key] = value\n",
    "        \n",
    "#定义获取value函数\n",
    "def get_value(key):\n",
    "    if key.lower() not in maps:\n",
    "        print('get_value收到了一个不存在的key值', key)\n",
    "        return None\n",
    "    return maps[key.lower()]"
   ]
  },
  {
   "cell_type": "code",
   "execution_count": null,
   "metadata": {},
   "outputs": [],
   "source": [
    "#替换中文属性名\n",
    "for file_index in range(len(file_list)):\n",
    "    for i in range(len(file_list[file_index].columns)):\n",
    "        if get_value(file_list[file_index].columns[i]) == None:\n",
    "            print(file_index, '.', file_list[file_index].columns[i], ' is not found')\n",
    "            continue;\n",
    "        file_list[file_index].rename(columns={file_list[file_index].columns[i]:get_value(file_list[file_index].columns[i])}, inplace = True)"
   ]
  },
  {
   "cell_type": "code",
   "execution_count": null,
   "metadata": {
    "scrolled": true
   },
   "outputs": [],
   "source": [
    "#定义根据id获取书名的函数\n",
    "def get_book_name(book_id, verbose = False):\n",
    "    if len(tsjyygh_data[tsjyygh_data['图书条形码号'].isin([book_id])]) == 0:\n",
    "        print(\"无法识别的图书条形码号\")\n",
    "        return None\n",
    "    book_name = tsjyygh_data[tsjyygh_data['图书条形码号'].isin([book_id])].iloc[0, 3]\n",
    "    if verbose:\n",
    "        print(book_id, \": \", book_name)\n",
    "    return book_name"
   ]
  },
  {
   "cell_type": "code",
   "execution_count": null,
   "metadata": {},
   "outputs": [],
   "source": [
    "#借了某本书的所有学生列表\n",
    "def get_student_list(book_id, verbose = False):\n",
    "    if len(tsjyygh_data[tsjyygh_data['图书条形码号'].isin([book_id])]) == 0:\n",
    "        print(\"该书无借阅记录\")\n",
    "        return None\n",
    "    student_list = tsjyygh_data[tsjyygh_data['图书条形码号'].isin([book_id])]\n",
    "    if verbose:\n",
    "        print(student_list)\n",
    "    return student_list['读者证件号'].values"
   ]
  },
  {
   "cell_type": "code",
   "execution_count": null,
   "metadata": {},
   "outputs": [],
   "source": [
    "#某个学号的学生借过的所有书列表\n",
    "def get_book_list(student_id, verbose = False):\n",
    "    if len(tsjyygh_data[tsjyygh_data['读者证件号'].isin([student_id])]) == 0:\n",
    "        print(\"该学号无借书记录\")\n",
    "        return None\n",
    "    book_list = tsjyygh_data[tsjyygh_data['读者证件号'].isin([student_id])]\n",
    "    if verbose:\n",
    "        print(book_list)\n",
    "    return book_list['书名'].values"
   ]
  },
  {
   "cell_type": "code",
   "execution_count": null,
   "metadata": {
    "scrolled": true
   },
   "outputs": [],
   "source": [
    "#构建用书id查找这本书被多少学生借了的字典     书号中有一个空  tsjyygh_data.iloc[494702,:]\n",
    "i = 1\n",
    "book_id_count_map = {}\n",
    "temp = list(tsjyygh_data['图书条形码号'])\n",
    "\n",
    "for book_id in tsjyygh_data['图书条形码号'][494700:]: \n",
    "    if book_id == None:\n",
    "        continue\n",
    "    book_id = str(book_id).strip()\n",
    "    if book_id in book_id_count_map:\n",
    "        book_id_count_map[book_id] = book_id_count_map[book_id] + 1\n",
    "    else:\n",
    "        book_id_count_map[book_id] = 1\n",
    "    print('book ', i, '/', len(tsjyygh_data['图书条形码号']), ' : ', book_id, \" : \", book_id_count_map[book_id])\n",
    "    i = i + 1\n",
    "    \n",
    "#构建用学生id查找该学生借过多少次书的字典     学号是个int值\n",
    "i = 1\n",
    "student_id_count_map = {}\n",
    "for student_id in tsjyygh_data['读者证件号']:\n",
    "    if student_id == None:\n",
    "        continue\n",
    "    student_id = student_id.strip()\n",
    "    if student_id in student_id_count_map:\n",
    "        student_id_count_map[student_id] = student_id_count_map[student_id] + 1\n",
    "    else:\n",
    "        student_id_count_map[student_id] = 1\n",
    "    print('student', i, '/', len(tsjyygh_data['读者证件号']), ' : ', student_id, \" : \", student_id_count_map[student_id])\n",
    "    i = i + 1\n",
    "\n",
    "#保存两个字典\n",
    "with open('book_id_count_map.json', 'w') as json_file:\n",
    "    json_file.write(json.dumps(book_id_count_map))\n",
    "\n",
    "with open('student_id_count_map.json', 'w') as json_file:\n",
    "    json_file.write(json.dumps(student_id_count_map))"
   ]
  },
  {
   "cell_type": "code",
   "execution_count": null,
   "metadata": {
    "scrolled": true
   },
   "outputs": [],
   "source": [
    "list(tsjyygh_data['读者证件号']).count('201634027')"
   ]
  },
  {
   "cell_type": "code",
   "execution_count": null,
   "metadata": {
    "scrolled": true
   },
   "outputs": [],
   "source": [
    "tsjyygh_data[tsjyygh_data['读者证件号'].isin(['201634027'])]"
   ]
  },
  {
   "cell_type": "code",
   "execution_count": 23,
   "metadata": {},
   "outputs": [
    {
     "data": {
      "text/plain": [
       "1"
      ]
     },
     "execution_count": 23,
     "metadata": {},
     "output_type": "execute_result"
    }
   ],
   "source": [
    "book_id_count_map['nan']"
   ]
  },
  {
   "cell_type": "code",
   "execution_count": 26,
   "metadata": {
    "scrolled": true
   },
   "outputs": [
    {
     "data": {
      "text/plain": [
       "读者证件号      201409068\n",
       "图书条形码号           NaN\n",
       "定价               NaN\n",
       "书名               NaN\n",
       "借书日期      2014-10-29\n",
       "应还日期             NaN\n",
       "续借次数               0\n",
       "归还日期      2014-12-01\n",
       "Name: 494702, dtype: object"
      ]
     },
     "execution_count": 26,
     "metadata": {},
     "output_type": "execute_result"
    }
   ],
   "source": [
    "abc = 88278+494700\n",
    "tsjyygh_data.iloc[494702,:]"
   ]
  }
 ],
 "metadata": {
  "kernelspec": {
   "display_name": "Python 3",
   "language": "python",
   "name": "python3"
  },
  "language_info": {
   "codemirror_mode": {
    "name": "ipython",
    "version": 3
   },
   "file_extension": ".py",
   "mimetype": "text/x-python",
   "name": "python",
   "nbconvert_exporter": "python",
   "pygments_lexer": "ipython3",
   "version": "3.7.1"
  }
 },
 "nbformat": 4,
 "nbformat_minor": 2
}
