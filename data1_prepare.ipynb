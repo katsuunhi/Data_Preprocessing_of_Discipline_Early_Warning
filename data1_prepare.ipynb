{
 "cells": [
  {
   "cell_type": "code",
   "execution_count": 1,
   "metadata": {},
   "outputs": [],
   "source": [
    "import pandas as pd\n",
    "import numpy as np\n",
    "\n",
    "pd.set_option('display.max_columns', None)"
   ]
  },
  {
   "cell_type": "markdown",
   "metadata": {},
   "source": [
    "### 1. 准备数据，有两个数据格式有问题，因此先使用excel方式读取，再保存为csv文件"
   ]
  },
  {
   "cell_type": "code",
   "execution_count": 16,
   "metadata": {},
   "outputs": [],
   "source": [
    "cj_data = pd.read_csv(\"data1/bks_cjxx_out.csv\")\n",
    "cj_data.to_csv(\"bks_cjxx_out.csv\", index = None)"
   ]
  },
  {
   "cell_type": "code",
   "execution_count": 18,
   "metadata": {
    "scrolled": true
   },
   "outputs": [
    {
     "ename": "XLRDError",
     "evalue": "Unsupported format, or corrupt file: Expected BOF record; found b'xh,yxsh,'",
     "output_type": "error",
     "traceback": [
      "\u001b[1;31m---------------------------------------------------------------------------\u001b[0m",
      "\u001b[1;31mXLRDError\u001b[0m                                 Traceback (most recent call last)",
      "\u001b[1;32m<ipython-input-18-21e102862625>\u001b[0m in \u001b[0;36m<module>\u001b[1;34m\u001b[0m\n\u001b[1;32m----> 1\u001b[1;33m \u001b[0mxjjbsj_data\u001b[0m \u001b[1;33m=\u001b[0m \u001b[0mpd\u001b[0m\u001b[1;33m.\u001b[0m\u001b[0mread_excel\u001b[0m\u001b[1;33m(\u001b[0m\u001b[1;34m\"data1/bks_xjjbsjxx_out.csv\"\u001b[0m\u001b[1;33m)\u001b[0m\u001b[1;33m\u001b[0m\u001b[1;33m\u001b[0m\u001b[0m\n\u001b[0m\u001b[0;32m      2\u001b[0m \u001b[0mkcsj_data\u001b[0m \u001b[1;33m=\u001b[0m \u001b[0mpd\u001b[0m\u001b[1;33m.\u001b[0m\u001b[0mread_csv\u001b[0m\u001b[1;33m(\u001b[0m\u001b[1;34m\"data1/bks_kcsjxx_out.csv\"\u001b[0m\u001b[1;33m)\u001b[0m\u001b[1;33m\u001b[0m\u001b[1;33m\u001b[0m\u001b[0m\n\u001b[0;32m      3\u001b[0m \u001b[1;33m\u001b[0m\u001b[0m\n\u001b[0;32m      4\u001b[0m \u001b[0mxjjbsj_data\u001b[0m\u001b[1;33m.\u001b[0m\u001b[0mdrop\u001b[0m\u001b[1;33m(\u001b[0m\u001b[1;33m[\u001b[0m\u001b[1;34m'Unnamed:'\u001b[0m\u001b[1;33m]\u001b[0m\u001b[1;33m,\u001b[0m \u001b[0maxis\u001b[0m\u001b[1;33m=\u001b[0m\u001b[1;36m1\u001b[0m\u001b[1;33m)\u001b[0m\u001b[1;33m\u001b[0m\u001b[1;33m\u001b[0m\u001b[0m\n\u001b[0;32m      5\u001b[0m \u001b[0mkcsj_data\u001b[0m\u001b[1;33m.\u001b[0m\u001b[0mdrop\u001b[0m\u001b[1;33m(\u001b[0m\u001b[1;33m[\u001b[0m\u001b[1;34m'Unnamed:'\u001b[0m\u001b[1;33m]\u001b[0m\u001b[1;33m,\u001b[0m \u001b[0maxis\u001b[0m\u001b[1;33m=\u001b[0m\u001b[1;36m1\u001b[0m\u001b[1;33m)\u001b[0m\u001b[1;33m\u001b[0m\u001b[1;33m\u001b[0m\u001b[0m\n",
      "\u001b[1;32mc:\\users\\katsu\\appdata\\local\\programs\\python\\python37\\lib\\site-packages\\pandas\\util\\_decorators.py\u001b[0m in \u001b[0;36mwrapper\u001b[1;34m(*args, **kwargs)\u001b[0m\n\u001b[0;32m    176\u001b[0m                 \u001b[1;32melse\u001b[0m\u001b[1;33m:\u001b[0m\u001b[1;33m\u001b[0m\u001b[1;33m\u001b[0m\u001b[0m\n\u001b[0;32m    177\u001b[0m                     \u001b[0mkwargs\u001b[0m\u001b[1;33m[\u001b[0m\u001b[0mnew_arg_name\u001b[0m\u001b[1;33m]\u001b[0m \u001b[1;33m=\u001b[0m \u001b[0mnew_arg_value\u001b[0m\u001b[1;33m\u001b[0m\u001b[1;33m\u001b[0m\u001b[0m\n\u001b[1;32m--> 178\u001b[1;33m             \u001b[1;32mreturn\u001b[0m \u001b[0mfunc\u001b[0m\u001b[1;33m(\u001b[0m\u001b[1;33m*\u001b[0m\u001b[0margs\u001b[0m\u001b[1;33m,\u001b[0m \u001b[1;33m**\u001b[0m\u001b[0mkwargs\u001b[0m\u001b[1;33m)\u001b[0m\u001b[1;33m\u001b[0m\u001b[1;33m\u001b[0m\u001b[0m\n\u001b[0m\u001b[0;32m    179\u001b[0m         \u001b[1;32mreturn\u001b[0m \u001b[0mwrapper\u001b[0m\u001b[1;33m\u001b[0m\u001b[1;33m\u001b[0m\u001b[0m\n\u001b[0;32m    180\u001b[0m     \u001b[1;32mreturn\u001b[0m \u001b[0m_deprecate_kwarg\u001b[0m\u001b[1;33m\u001b[0m\u001b[1;33m\u001b[0m\u001b[0m\n",
      "\u001b[1;32mc:\\users\\katsu\\appdata\\local\\programs\\python\\python37\\lib\\site-packages\\pandas\\util\\_decorators.py\u001b[0m in \u001b[0;36mwrapper\u001b[1;34m(*args, **kwargs)\u001b[0m\n\u001b[0;32m    176\u001b[0m                 \u001b[1;32melse\u001b[0m\u001b[1;33m:\u001b[0m\u001b[1;33m\u001b[0m\u001b[1;33m\u001b[0m\u001b[0m\n\u001b[0;32m    177\u001b[0m                     \u001b[0mkwargs\u001b[0m\u001b[1;33m[\u001b[0m\u001b[0mnew_arg_name\u001b[0m\u001b[1;33m]\u001b[0m \u001b[1;33m=\u001b[0m \u001b[0mnew_arg_value\u001b[0m\u001b[1;33m\u001b[0m\u001b[1;33m\u001b[0m\u001b[0m\n\u001b[1;32m--> 178\u001b[1;33m             \u001b[1;32mreturn\u001b[0m \u001b[0mfunc\u001b[0m\u001b[1;33m(\u001b[0m\u001b[1;33m*\u001b[0m\u001b[0margs\u001b[0m\u001b[1;33m,\u001b[0m \u001b[1;33m**\u001b[0m\u001b[0mkwargs\u001b[0m\u001b[1;33m)\u001b[0m\u001b[1;33m\u001b[0m\u001b[1;33m\u001b[0m\u001b[0m\n\u001b[0m\u001b[0;32m    179\u001b[0m         \u001b[1;32mreturn\u001b[0m \u001b[0mwrapper\u001b[0m\u001b[1;33m\u001b[0m\u001b[1;33m\u001b[0m\u001b[0m\n\u001b[0;32m    180\u001b[0m     \u001b[1;32mreturn\u001b[0m \u001b[0m_deprecate_kwarg\u001b[0m\u001b[1;33m\u001b[0m\u001b[1;33m\u001b[0m\u001b[0m\n",
      "\u001b[1;32mc:\\users\\katsu\\appdata\\local\\programs\\python\\python37\\lib\\site-packages\\pandas\\io\\excel.py\u001b[0m in \u001b[0;36mread_excel\u001b[1;34m(io, sheet_name, header, names, index_col, usecols, squeeze, dtype, engine, converters, true_values, false_values, skiprows, nrows, na_values, parse_dates, date_parser, thousands, comment, skipfooter, convert_float, **kwds)\u001b[0m\n\u001b[0;32m    305\u001b[0m \u001b[1;33m\u001b[0m\u001b[0m\n\u001b[0;32m    306\u001b[0m     \u001b[1;32mif\u001b[0m \u001b[1;32mnot\u001b[0m \u001b[0misinstance\u001b[0m\u001b[1;33m(\u001b[0m\u001b[0mio\u001b[0m\u001b[1;33m,\u001b[0m \u001b[0mExcelFile\u001b[0m\u001b[1;33m)\u001b[0m\u001b[1;33m:\u001b[0m\u001b[1;33m\u001b[0m\u001b[1;33m\u001b[0m\u001b[0m\n\u001b[1;32m--> 307\u001b[1;33m         \u001b[0mio\u001b[0m \u001b[1;33m=\u001b[0m \u001b[0mExcelFile\u001b[0m\u001b[1;33m(\u001b[0m\u001b[0mio\u001b[0m\u001b[1;33m,\u001b[0m \u001b[0mengine\u001b[0m\u001b[1;33m=\u001b[0m\u001b[0mengine\u001b[0m\u001b[1;33m)\u001b[0m\u001b[1;33m\u001b[0m\u001b[1;33m\u001b[0m\u001b[0m\n\u001b[0m\u001b[0;32m    308\u001b[0m \u001b[1;33m\u001b[0m\u001b[0m\n\u001b[0;32m    309\u001b[0m     return io.parse(\n",
      "\u001b[1;32mc:\\users\\katsu\\appdata\\local\\programs\\python\\python37\\lib\\site-packages\\pandas\\io\\excel.py\u001b[0m in \u001b[0;36m__init__\u001b[1;34m(self, io, **kwds)\u001b[0m\n\u001b[0;32m    392\u001b[0m             \u001b[0mself\u001b[0m\u001b[1;33m.\u001b[0m\u001b[0mbook\u001b[0m \u001b[1;33m=\u001b[0m \u001b[0mxlrd\u001b[0m\u001b[1;33m.\u001b[0m\u001b[0mopen_workbook\u001b[0m\u001b[1;33m(\u001b[0m\u001b[0mfile_contents\u001b[0m\u001b[1;33m=\u001b[0m\u001b[0mdata\u001b[0m\u001b[1;33m)\u001b[0m\u001b[1;33m\u001b[0m\u001b[1;33m\u001b[0m\u001b[0m\n\u001b[0;32m    393\u001b[0m         \u001b[1;32melif\u001b[0m \u001b[0misinstance\u001b[0m\u001b[1;33m(\u001b[0m\u001b[0mself\u001b[0m\u001b[1;33m.\u001b[0m\u001b[0m_io\u001b[0m\u001b[1;33m,\u001b[0m \u001b[0mcompat\u001b[0m\u001b[1;33m.\u001b[0m\u001b[0mstring_types\u001b[0m\u001b[1;33m)\u001b[0m\u001b[1;33m:\u001b[0m\u001b[1;33m\u001b[0m\u001b[1;33m\u001b[0m\u001b[0m\n\u001b[1;32m--> 394\u001b[1;33m             \u001b[0mself\u001b[0m\u001b[1;33m.\u001b[0m\u001b[0mbook\u001b[0m \u001b[1;33m=\u001b[0m \u001b[0mxlrd\u001b[0m\u001b[1;33m.\u001b[0m\u001b[0mopen_workbook\u001b[0m\u001b[1;33m(\u001b[0m\u001b[0mself\u001b[0m\u001b[1;33m.\u001b[0m\u001b[0m_io\u001b[0m\u001b[1;33m)\u001b[0m\u001b[1;33m\u001b[0m\u001b[1;33m\u001b[0m\u001b[0m\n\u001b[0m\u001b[0;32m    395\u001b[0m         \u001b[1;32melse\u001b[0m\u001b[1;33m:\u001b[0m\u001b[1;33m\u001b[0m\u001b[1;33m\u001b[0m\u001b[0m\n\u001b[0;32m    396\u001b[0m             raise ValueError('Must explicitly set engine if not passing in'\n",
      "\u001b[1;32mc:\\users\\katsu\\appdata\\local\\programs\\python\\python37\\lib\\site-packages\\xlrd\\__init__.py\u001b[0m in \u001b[0;36mopen_workbook\u001b[1;34m(filename, logfile, verbosity, use_mmap, file_contents, encoding_override, formatting_info, on_demand, ragged_rows)\u001b[0m\n\u001b[0;32m    155\u001b[0m         \u001b[0mformatting_info\u001b[0m\u001b[1;33m=\u001b[0m\u001b[0mformatting_info\u001b[0m\u001b[1;33m,\u001b[0m\u001b[1;33m\u001b[0m\u001b[1;33m\u001b[0m\u001b[0m\n\u001b[0;32m    156\u001b[0m         \u001b[0mon_demand\u001b[0m\u001b[1;33m=\u001b[0m\u001b[0mon_demand\u001b[0m\u001b[1;33m,\u001b[0m\u001b[1;33m\u001b[0m\u001b[1;33m\u001b[0m\u001b[0m\n\u001b[1;32m--> 157\u001b[1;33m         \u001b[0mragged_rows\u001b[0m\u001b[1;33m=\u001b[0m\u001b[0mragged_rows\u001b[0m\u001b[1;33m,\u001b[0m\u001b[1;33m\u001b[0m\u001b[1;33m\u001b[0m\u001b[0m\n\u001b[0m\u001b[0;32m    158\u001b[0m     )\n\u001b[0;32m    159\u001b[0m     \u001b[1;32mreturn\u001b[0m \u001b[0mbk\u001b[0m\u001b[1;33m\u001b[0m\u001b[1;33m\u001b[0m\u001b[0m\n",
      "\u001b[1;32mc:\\users\\katsu\\appdata\\local\\programs\\python\\python37\\lib\\site-packages\\xlrd\\book.py\u001b[0m in \u001b[0;36mopen_workbook_xls\u001b[1;34m(filename, logfile, verbosity, use_mmap, file_contents, encoding_override, formatting_info, on_demand, ragged_rows)\u001b[0m\n\u001b[0;32m     90\u001b[0m         \u001b[0mt1\u001b[0m \u001b[1;33m=\u001b[0m \u001b[0mperf_counter\u001b[0m\u001b[1;33m(\u001b[0m\u001b[1;33m)\u001b[0m\u001b[1;33m\u001b[0m\u001b[1;33m\u001b[0m\u001b[0m\n\u001b[0;32m     91\u001b[0m         \u001b[0mbk\u001b[0m\u001b[1;33m.\u001b[0m\u001b[0mload_time_stage_1\u001b[0m \u001b[1;33m=\u001b[0m \u001b[0mt1\u001b[0m \u001b[1;33m-\u001b[0m \u001b[0mt0\u001b[0m\u001b[1;33m\u001b[0m\u001b[1;33m\u001b[0m\u001b[0m\n\u001b[1;32m---> 92\u001b[1;33m         \u001b[0mbiff_version\u001b[0m \u001b[1;33m=\u001b[0m \u001b[0mbk\u001b[0m\u001b[1;33m.\u001b[0m\u001b[0mgetbof\u001b[0m\u001b[1;33m(\u001b[0m\u001b[0mXL_WORKBOOK_GLOBALS\u001b[0m\u001b[1;33m)\u001b[0m\u001b[1;33m\u001b[0m\u001b[1;33m\u001b[0m\u001b[0m\n\u001b[0m\u001b[0;32m     93\u001b[0m         \u001b[1;32mif\u001b[0m \u001b[1;32mnot\u001b[0m \u001b[0mbiff_version\u001b[0m\u001b[1;33m:\u001b[0m\u001b[1;33m\u001b[0m\u001b[1;33m\u001b[0m\u001b[0m\n\u001b[0;32m     94\u001b[0m             \u001b[1;32mraise\u001b[0m \u001b[0mXLRDError\u001b[0m\u001b[1;33m(\u001b[0m\u001b[1;34m\"Can't determine file's BIFF version\"\u001b[0m\u001b[1;33m)\u001b[0m\u001b[1;33m\u001b[0m\u001b[1;33m\u001b[0m\u001b[0m\n",
      "\u001b[1;32mc:\\users\\katsu\\appdata\\local\\programs\\python\\python37\\lib\\site-packages\\xlrd\\book.py\u001b[0m in \u001b[0;36mgetbof\u001b[1;34m(self, rqd_stream)\u001b[0m\n\u001b[0;32m   1276\u001b[0m             \u001b[0mbof_error\u001b[0m\u001b[1;33m(\u001b[0m\u001b[1;34m'Expected BOF record; met end of file'\u001b[0m\u001b[1;33m)\u001b[0m\u001b[1;33m\u001b[0m\u001b[1;33m\u001b[0m\u001b[0m\n\u001b[0;32m   1277\u001b[0m         \u001b[1;32mif\u001b[0m \u001b[0mopcode\u001b[0m \u001b[1;32mnot\u001b[0m \u001b[1;32min\u001b[0m \u001b[0mbofcodes\u001b[0m\u001b[1;33m:\u001b[0m\u001b[1;33m\u001b[0m\u001b[1;33m\u001b[0m\u001b[0m\n\u001b[1;32m-> 1278\u001b[1;33m             \u001b[0mbof_error\u001b[0m\u001b[1;33m(\u001b[0m\u001b[1;34m'Expected BOF record; found %r'\u001b[0m \u001b[1;33m%\u001b[0m \u001b[0mself\u001b[0m\u001b[1;33m.\u001b[0m\u001b[0mmem\u001b[0m\u001b[1;33m[\u001b[0m\u001b[0msavpos\u001b[0m\u001b[1;33m:\u001b[0m\u001b[0msavpos\u001b[0m\u001b[1;33m+\u001b[0m\u001b[1;36m8\u001b[0m\u001b[1;33m]\u001b[0m\u001b[1;33m)\u001b[0m\u001b[1;33m\u001b[0m\u001b[1;33m\u001b[0m\u001b[0m\n\u001b[0m\u001b[0;32m   1279\u001b[0m         \u001b[0mlength\u001b[0m \u001b[1;33m=\u001b[0m \u001b[0mself\u001b[0m\u001b[1;33m.\u001b[0m\u001b[0mget2bytes\u001b[0m\u001b[1;33m(\u001b[0m\u001b[1;33m)\u001b[0m\u001b[1;33m\u001b[0m\u001b[1;33m\u001b[0m\u001b[0m\n\u001b[0;32m   1280\u001b[0m         \u001b[1;32mif\u001b[0m \u001b[0mlength\u001b[0m \u001b[1;33m==\u001b[0m \u001b[0mMY_EOF\u001b[0m\u001b[1;33m:\u001b[0m\u001b[1;33m\u001b[0m\u001b[1;33m\u001b[0m\u001b[0m\n",
      "\u001b[1;32mc:\\users\\katsu\\appdata\\local\\programs\\python\\python37\\lib\\site-packages\\xlrd\\book.py\u001b[0m in \u001b[0;36mbof_error\u001b[1;34m(msg)\u001b[0m\n\u001b[0;32m   1270\u001b[0m \u001b[1;33m\u001b[0m\u001b[0m\n\u001b[0;32m   1271\u001b[0m         \u001b[1;32mdef\u001b[0m \u001b[0mbof_error\u001b[0m\u001b[1;33m(\u001b[0m\u001b[0mmsg\u001b[0m\u001b[1;33m)\u001b[0m\u001b[1;33m:\u001b[0m\u001b[1;33m\u001b[0m\u001b[1;33m\u001b[0m\u001b[0m\n\u001b[1;32m-> 1272\u001b[1;33m             \u001b[1;32mraise\u001b[0m \u001b[0mXLRDError\u001b[0m\u001b[1;33m(\u001b[0m\u001b[1;34m'Unsupported format, or corrupt file: '\u001b[0m \u001b[1;33m+\u001b[0m \u001b[0mmsg\u001b[0m\u001b[1;33m)\u001b[0m\u001b[1;33m\u001b[0m\u001b[1;33m\u001b[0m\u001b[0m\n\u001b[0m\u001b[0;32m   1273\u001b[0m         \u001b[0msavpos\u001b[0m \u001b[1;33m=\u001b[0m \u001b[0mself\u001b[0m\u001b[1;33m.\u001b[0m\u001b[0m_position\u001b[0m\u001b[1;33m\u001b[0m\u001b[1;33m\u001b[0m\u001b[0m\n\u001b[0;32m   1274\u001b[0m         \u001b[0mopcode\u001b[0m \u001b[1;33m=\u001b[0m \u001b[0mself\u001b[0m\u001b[1;33m.\u001b[0m\u001b[0mget2bytes\u001b[0m\u001b[1;33m(\u001b[0m\u001b[1;33m)\u001b[0m\u001b[1;33m\u001b[0m\u001b[1;33m\u001b[0m\u001b[0m\n",
      "\u001b[1;31mXLRDError\u001b[0m: Unsupported format, or corrupt file: Expected BOF record; found b'xh,yxsh,'"
     ]
    }
   ],
   "source": [
    "xjjbsj_data = pd.read_excel(\"data1/bks_xjjbsjxx_out.csv\")\n",
    "kcsj_data = pd.read_csv(\"data1/bks_kcsjxx_out.csv\")\n",
    "\n",
    "kcsj_data.to_csv(\"data1/bks_kcsjxx_out.csv\", index = None)\n",
    "xjjbsj_data.to_csv(\"data1/bks_xjjbsjxx_out.csv\", index = None)"
   ]
  },
  {
   "cell_type": "code",
   "execution_count": 19,
   "metadata": {
    "scrolled": true
   },
   "outputs": [],
   "source": [
    "data1 = pd.read_csv(\"data1/cjxx_out1.csv\",encoding = \"GBK\") \n",
    "data2 = pd.read_csv(\"data1/cjxx_out2.csv\",encoding = \"GBK\",names = data1.columns) \n",
    "data12 = pd.concat([data1, data2], ignore_index = True)\n",
    "\n",
    "\n",
    "xjjbsj_data = pd.read_excel(\"data1/bks_xjjbsjxx_out.xlsx\")\n",
    "kcsj_data = pd.read_csv(\"data1/bks_kcsjxx_out.csv\")\n",
    "kcsj_data.rename(columns={'zxs':'zxxs'}, inplace = True)\n",
    "\n",
    "data12.to_csv(\"bks_cjxx_out.csv\", index = None)\n",
    "kcsj_data.to_csv(\"data1/bks_kcsjxx_out.csv\", index = None)\n",
    "xjjbsj_data.to_csv(\"data1/bks_xjjbsjxx_out.csv\", index = None)"
   ]
  },
  {
   "cell_type": "markdown",
   "metadata": {},
   "source": [
    "### 2. 读取数据，分别为  成绩， 课程数据， 排课数据， 学籍基本数据， 学生基本数据， 一卡通消费日志，并整合放入file_list中"
   ]
  },
  {
   "cell_type": "code",
   "execution_count": 2,
   "metadata": {
    "scrolled": true
   },
   "outputs": [],
   "source": [
    "cj_data = pd.read_csv(\"data1/bks_cjxx_out.csv\")   #成绩\n",
    "kcsj_data = pd.read_csv(\"data1/bks_kcsjxx_out.csv\")              #课程数据\n",
    "pksj_data = pd.read_csv(\"data1/bks_pksjxx_out.csv\")              #排课数据\n",
    "xjjbsj_data = pd.read_csv(\"data1/bks_xjjbsjxx_out.csv\")   #学籍基本数据\n",
    "xsjbsj_data = pd.read_csv(\"data1/bks_xsjbsjxx_out.csv\")          #学生基本数据\n",
    "jyrz_data = pd.read_table('data1/ykt_jyrz_lishi.txt',sep = ';')  #一卡通消费日志    交易金额和交易余额需要除以100\n",
    "\n",
    "\n",
    "file_list = [cj_data, kcsj_data, pksj_data, xjjbsj_data, xsjbsj_data, jyrz_data]\n",
    "file_list_name = ['成绩表', '数据课程信息','排课数据信息', '学籍基本数据信息', '学生基本数据信息', '一卡通消费日志']"
   ]
  },
  {
   "cell_type": "markdown",
   "metadata": {},
   "source": [
    "### 3. 构建maps表和get_value()函数  之后所有查看标签含义都可以通过调用get_value(), e.g. get_value(\"JYYE\")"
   ]
  },
  {
   "cell_type": "code",
   "execution_count": 4,
   "metadata": {
    "scrolled": true
   },
   "outputs": [],
   "source": [
    "#构建maps表\n",
    "maps = {}\n",
    "maps_list = []\n",
    "data = pd.read_excel(\"data1/数据结构说明.xlsx\", sheet_name = None)\n",
    "for sheet in data:\n",
    "    maps_list.append(sheet)\n",
    "maps_list.remove(maps_list[0])\n",
    "for i in range(6):\n",
    "    for key, value in zip(data[maps_list[i]].iloc[:,0], data[maps_list[i]].iloc[:,2]):\n",
    "        key = key.replace(' ','')\n",
    "        maps[key] = value\n",
    "\n",
    "#定义获取value函数\n",
    "def get_value(key):\n",
    "    if key.lower() not in maps:\n",
    "        print('get_value收到了一个不存在的key值', key)\n",
    "        return None\n",
    "    return maps[key.lower()]"
   ]
  },
  {
   "cell_type": "markdown",
   "metadata": {},
   "source": [
    "### 4. 为每个文件修改标签名，方便查看数据"
   ]
  },
  {
   "cell_type": "code",
   "execution_count": 5,
   "metadata": {},
   "outputs": [
    {
     "name": "stdout",
     "output_type": "stream",
     "text": [
      "get_value收到了一个不存在的key值 Unnamed: 0\n",
      "0 . Unnamed: 0  is not found\n",
      "get_value收到了一个不存在的key值 rkjsgh\n",
      "0 . rkjsgh  is not found\n",
      "get_value收到了一个不存在的key值 Unnamed: 0\n",
      "1 . Unnamed: 0  is not found\n",
      "get_value收到了一个不存在的key值 zxs\n",
      "2 . zxs  is not found\n"
     ]
    }
   ],
   "source": [
    "for file_index in range(len(file_list)):\n",
    "    for i in range(len(file_list[file_index].columns)):\n",
    "        if get_value(file_list[file_index].columns[i]) == None:\n",
    "            print(file_index, '.', file_list[file_index].columns[i], ' is not found')\n",
    "            continue;\n",
    "        file_list[file_index].rename(columns={file_list[file_index].columns[i]:get_value(file_list[file_index].columns[i])}, inplace = True)"
   ]
  },
  {
   "cell_type": "markdown",
   "metadata": {},
   "source": [
    "### 删除全空属性     总学时有bug"
   ]
  },
  {
   "cell_type": "code",
   "execution_count": 6,
   "metadata": {
    "scrolled": true
   },
   "outputs": [
    {
     "name": "stdout",
     "output_type": "stream",
     "text": [
      "0 . 考试性质码 is nan\n",
      "0 . 考试形式码 is nan\n",
      "0 . 课程等级成绩码 is nan\n",
      "0 . rkjsgh is nan\n",
      "0 . 是否重修 is nan\n",
      "0 . 教学班号 is nan\n",
      "0 . 重修补考标志 is nan\n",
      "1 . 周学时 is nan\n",
      "1 . 课程类别代码 is nan\n",
      "2 . 上课时间 is nan\n",
      "2 . 课容量 is nan\n",
      "2 . 选课校区号 is nan\n",
      "2 . 选课人数限定 is nan\n",
      "2 . 选课年级 is nan\n",
      "2 . 教室类型码 is nan\n",
      "2 . 课程性质码 is nan\n",
      "2 . 上课班级号 is nan\n",
      "2 . 教学班名称 is nan\n",
      "2 . 教学班号 is nan\n",
      "2 . 教学资源 is nan\n",
      "2 . 开课说明 is nan\n",
      "2 . 排课要求 is nan\n",
      "2 . 计划课程编号 is nan\n",
      "2 . 教学特征 is nan\n",
      "2 . 是否开课 is nan\n",
      "2 . zxs is nan\n",
      "3 . 培养方式码 is nan\n",
      "3 . 连读方式码 is nan\n",
      "3 . 学生层次码 is nan\n",
      "4 . 籍贯 is nan\n"
     ]
    }
   ],
   "source": [
    "for file_index in range(len(file_list)):\n",
    "    for column in file_list[file_index].columns:\n",
    "        if column == '总学时':\n",
    "            continue;\n",
    "        if file_list[file_index][column].count() == 0:\n",
    "            print(file_index, '.', column, 'is nan')\n",
    "            file_list[file_index].drop(column, axis = 1, inplace=True)"
   ]
  },
  {
   "cell_type": "markdown",
   "metadata": {},
   "source": [
    "### 打印可用属性"
   ]
  },
  {
   "cell_type": "code",
   "execution_count": 7,
   "metadata": {
    "scrolled": false
   },
   "outputs": [
    {
     "name": "stdout",
     "output_type": "stream",
     "text": [
      "成绩表\n",
      "▪ Unnamed: 0\n",
      "▪ 学号\n",
      "▪ 学年(度)\n",
      "▪ 学期码\n",
      "▪ 考试日期\n",
      "▪ 课程号\n",
      "▪ 平时成绩\n",
      "▪ 分数类考试成绩\n",
      "▪ 等级类考试成绩\n",
      "▪ 课程成绩\n",
      "▪ 成绩编号\n",
      "▪ 学分\n",
      "▪ 绩点\n",
      "▪ 课程属性代码(001，必修；002，选修；003，任选；004，辅修；005，限选)\n",
      "▪ 修读方式代码(01，正常；04，重修；06，复修；08，补考 )\n",
      "▪ 课序号（新增）\n",
      "▪ 成绩范围.ln,历年成绩库；lr，当前录入成绩库\n",
      "▪ 考试类别码(01，集中周；02，非集中周；03，国家考试)\n",
      "▪ 等级成绩\n",
      "▪ 成绩录入方式代码（1027新增）(001\t录入百分成绩,002 录入等级成绩,003 录入明细成绩\u0013)\n",
      "▪ 替代课程号（1027新增）\n",
      "\n",
      "\n",
      "\n",
      "\n",
      "数据课程信息\n",
      "▪ Unnamed: 0\n",
      "▪ 课程号\n",
      "▪ 课程名称\n",
      "▪ 课程英文名称\n",
      "▪ 学分\n",
      "▪ 总学时\n",
      "▪ 教材\n",
      "▪ 理论学时\n",
      "▪ 实验学时\n",
      "▪ 课程开设单位号\n",
      "▪ 实践学时\n",
      "▪ 参考书目\n",
      "▪ 课程简介\n",
      "▪ 编号\n",
      "▪ 开课校区\n",
      "\n",
      "\n",
      "\n",
      "\n",
      "排课数据信息\n",
      "▪ 课程开设单位号\n",
      "▪ 开课学年度\n",
      "▪ 开课学期码\n",
      "▪ 教学地点\n",
      "▪ 修读人数\n",
      "▪ 教室所在校区号\n",
      "▪ 起始周\n",
      "▪ 终止周\n",
      "▪ 排课编号\n",
      "▪ 数据同步时间\n",
      "▪ 总学时\n",
      "▪ 课程号\n",
      "▪ 上课星期（标识星期几上课）\n",
      "▪ 上课节次\n",
      "▪ 持续节次\n",
      "▪ 上课周次\n",
      "▪ 周次说明\n",
      "▪ 校区号\n",
      "▪ 教学计划编号\n",
      "▪ 教学楼号\n",
      "▪ 教室号\n",
      "▪ 课序号（新增）\n",
      "\n",
      "\n",
      "\n",
      "\n",
      "学籍基本数据信息\n",
      "▪ 学号\n",
      "▪ 院系所号\n",
      "▪ 专业码\n",
      "▪ 学科门类码\n",
      "▪ 学生类别码\n",
      "▪ 所在年级\n",
      "▪ 培养层次码（必填项：3  本科\n",
      "4  专科\n",
      "9  其他）\n",
      "▪ 学生当前状态码\n",
      "▪ 所在班号\n",
      "▪ 入学年月\n",
      "▪ 是否有学籍(新增)\n",
      "▪ 是否有国家学籍(新增)\n",
      "▪ 校区号\n",
      "▪ 学制（新增）\n",
      "\n",
      "\n",
      "\n",
      "\n",
      "学生基本数据信息\n",
      "▪ 学号\n",
      "▪ 姓名\n",
      "▪ 性别码\n",
      "▪ 出生日期\n",
      "▪ 出生地码\n",
      "▪ 民族码\n",
      "▪ 国籍/地区码\n",
      "▪ 港澳台侨外码\n",
      "▪ 政治面貌码\n",
      "▪ 健康状况码\n",
      "▪ 信仰宗教码\n",
      "▪ 是否留学生\n",
      "▪ 是否独生子女\n",
      "\n",
      "\n",
      "\n",
      "\n",
      "一卡通消费日志\n",
      "▪ 学号\n",
      "▪ 交易类型\n",
      "▪ 交易金额\n",
      "▪ 交易日期\n",
      "▪ 交易时间\n",
      "▪ 交易地点\n",
      "▪ 商户代码\n",
      "▪ 商户名称\n",
      "▪  pos编号\n",
      "▪  累计刷卡次数\n",
      "▪ 交易余额\n",
      "\n",
      "\n",
      "\n",
      "\n"
     ]
    }
   ],
   "source": [
    "for file_index in range(len(file_list)):\n",
    "    print(file_list_name[file_index])\n",
    "    for column in file_list[file_index].columns:\n",
    "        print( '▪', column)\n",
    "    print('\\n\\n\\n')"
   ]
  },
  {
   "cell_type": "code",
   "execution_count": 14,
   "metadata": {},
   "outputs": [
    {
     "data": {
      "text/plain": [
       "array(['西山浴室', '圈存缴网费', '西山热水器', '校医院', '体育馆', '中心食堂一层', '五食堂一层',\n",
       "       '中心食堂二层', '大学生超市', '中心食堂三层', '京鹤直饮水', '开发区校区食堂', '开发区浴室', '五食堂二层',\n",
       "       '电子缴电费', '沁园餐厅', '开发区开水机', '卢工洗衣机', '班车', '五食堂三层', '郭顺发洗衣机',\n",
       "       '中心食堂清真', '教育书店咖啡厅', '机房管理商户', '开发区网络计费', '博留一层', '七食堂1楼', '梁工洗衣机',\n",
       "       '七食堂2楼', '开发区智能控电', '教务注册大厅收费', '汇文系统', '校友工作处', '软件学院体育馆', '建艺学院',\n",
       "       '九食堂清真餐厅', '十食堂超市', '盘锦校区B12食堂', '博留二层', '图书馆机房管理系统', '博留咖啡厅',\n",
       "       '北山AB区热水器', '北山B区浴室', '盘锦校区B13食堂'], dtype=object)"
      ]
     },
     "execution_count": 14,
     "metadata": {},
     "output_type": "execute_result"
    }
   ],
   "source": [
    "#file_list = [cj_data, kcsj_data, pksj_data, xjjbsj_data, xsjbsj_data, jyrz_data]\n",
    "#file_list_name = ['成绩表', '数据课程信息','排课数据信息', '学籍基本数据信息', '学生基本数据信息', '一卡通消费日志']\n",
    "jyrz_data['交易地点'].unique()"
   ]
  }
 ],
 "metadata": {
  "kernelspec": {
   "display_name": "Python 3",
   "language": "python",
   "name": "python3"
  },
  "language_info": {
   "codemirror_mode": {
    "name": "ipython",
    "version": 3
   },
   "file_extension": ".py",
   "mimetype": "text/x-python",
   "name": "python",
   "nbconvert_exporter": "python",
   "pygments_lexer": "ipython3",
   "version": "3.7.1"
  }
 },
 "nbformat": 4,
 "nbformat_minor": 2
}
